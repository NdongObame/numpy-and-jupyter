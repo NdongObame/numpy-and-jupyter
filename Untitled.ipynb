{
 "cells": [
  {
   "cell_type": "code",
   "execution_count": 5,
   "id": "00bdfbe7-6c8d-4342-81f2-84c524a4db17",
   "metadata": {},
   "outputs": [],
   "source": [
    "import numpy as np"
   ]
  },
  {
   "cell_type": "code",
   "execution_count": 6,
   "id": "e049cb0f-2457-48ff-9df1-7047df733aa6",
   "metadata": {},
   "outputs": [
    {
     "data": {
      "text/plain": [
       "array([0., 0., 0., 0., 0., 0., 0., 0., 0., 0.])"
      ]
     },
     "execution_count": 6,
     "metadata": {},
     "output_type": "execute_result"
    }
   ],
   "source": [
    "a = np.zeros(10)\n",
    "a"
   ]
  },
  {
   "cell_type": "code",
   "execution_count": 18,
   "id": "d816216f-2440-47a6-aa20-5e72af0b3dee",
   "metadata": {},
   "outputs": [
    {
     "data": {
      "text/plain": [
       "array([10, 11, 12, 13, 14, 15, 16, 17, 18, 19, 20, 21, 22, 23, 24, 25, 26,\n",
       "       27, 28, 29, 30, 31, 32, 33, 34, 35, 36, 37, 38, 39, 40, 41, 42, 43,\n",
       "       44, 45, 46, 47, 48, 49])"
      ]
     },
     "execution_count": 18,
     "metadata": {},
     "output_type": "execute_result"
    }
   ],
   "source": [
    "b = np.arange(10,50)\n",
    "b"
   ]
  },
  {
   "cell_type": "code",
   "execution_count": 22,
   "id": "959e95cd-7e68-42a1-a032-5708b2252319",
   "metadata": {},
   "outputs": [
    {
     "data": {
      "text/plain": [
       "array([[1, 1],\n",
       "       [1, 1]])"
      ]
     },
     "execution_count": 22,
     "metadata": {},
     "output_type": "execute_result"
    }
   ],
   "source": [
    "c = np.ones((2,2), dtype = int)\n",
    "c"
   ]
  },
  {
   "cell_type": "code",
   "execution_count": 24,
   "id": "49050360-4d2b-4c92-ad1a-ef20b31aba38",
   "metadata": {},
   "outputs": [
    {
     "data": {
      "text/plain": [
       "array([[1., 1.],\n",
       "       [1., 1.],\n",
       "       [1., 1.]])"
      ]
     },
     "execution_count": 24,
     "metadata": {},
     "output_type": "execute_result"
    }
   ],
   "source": [
    "d = np.ones((3,2))\n",
    "d"
   ]
  },
  {
   "cell_type": "code",
   "execution_count": 27,
   "id": "c1b02e16-7ab0-4dc2-890c-8396c90e0967",
   "metadata": {},
   "outputs": [
    {
     "data": {
      "text/plain": [
       "array([[1, 2, 3],\n",
       "       [4, 5, 6],\n",
       "       [7, 8, 9]])"
      ]
     },
     "execution_count": 27,
     "metadata": {},
     "output_type": "execute_result"
    }
   ],
   "source": [
    "x = np.array([\n",
    "    [1,2,3],[4,5,6],[7,8,9]\n",
    "])\n",
    "x"
   ]
  },
  {
   "cell_type": "code",
   "execution_count": 28,
   "id": "a8053867-8fe7-4673-a3a2-a7c298bff0d5",
   "metadata": {},
   "outputs": [
    {
     "data": {
      "text/plain": [
       "array([[1, 1, 1],\n",
       "       [1, 1, 1],\n",
       "       [1, 1, 1]])"
      ]
     },
     "execution_count": 28,
     "metadata": {},
     "output_type": "execute_result"
    }
   ],
   "source": [
    "y = np.ones_like((x))\n",
    "y"
   ]
  },
  {
   "cell_type": "code",
   "execution_count": 38,
   "id": "195b8597-40b5-4208-b085-9cac35b35b6f",
   "metadata": {},
   "outputs": [
    {
     "data": {
      "text/plain": [
       "array([ 0.,  1.,  2.,  3.,  4.,  5.,  6.,  7.,  8.,  9., 10., 11., 12.,\n",
       "       13., 14.])"
      ]
     },
     "execution_count": 38,
     "metadata": {},
     "output_type": "execute_result"
    }
   ],
   "source": [
    "z = np.arange(15, dtype = float)\n",
    "z"
   ]
  },
  {
   "cell_type": "code",
   "execution_count": 40,
   "id": "b209d54f-c95b-4702-83c6-635a2ca3509d",
   "metadata": {},
   "outputs": [
    {
     "data": {
      "text/plain": [
       "array([0., 0., 0., 0., 0., 0., 0., 0., 0., 0., 0., 0., 0., 0., 0.])"
      ]
     },
     "execution_count": 40,
     "metadata": {},
     "output_type": "execute_result"
    }
   ],
   "source": [
    "w = np.zeros_like(z)\n",
    "w"
   ]
  },
  {
   "cell_type": "code",
   "execution_count": 45,
   "id": "9e1e9410-611d-4f58-a77f-c09b68f472be",
   "metadata": {},
   "outputs": [
    {
     "data": {
      "text/plain": [
       "array([[5, 5, 5, 5],\n",
       "       [5, 5, 5, 5],\n",
       "       [5, 5, 5, 5],\n",
       "       [5, 5, 5, 5]])"
      ]
     },
     "execution_count": 45,
     "metadata": {},
     "output_type": "execute_result"
    }
   ],
   "source": [
    "e = np.full((4,4), 5)\n",
    "e"
   ]
  },
  {
   "cell_type": "code",
   "execution_count": 48,
   "id": "1471c121-c34f-482c-a62b-85cc7e4b0d27",
   "metadata": {},
   "outputs": [
    {
     "data": {
      "text/plain": [
       "array([[5, 5, 5, 5],\n",
       "       [5, 5, 5, 5],\n",
       "       [5, 5, 5, 5],\n",
       "       [5, 5, 5, 5]])"
      ]
     },
     "execution_count": 48,
     "metadata": {},
     "output_type": "execute_result"
    }
   ],
   "source": [
    "f = np.ones((4,4), dtype = int)\n",
    "f*5"
   ]
  },
  {
   "cell_type": "code",
   "execution_count": 50,
   "id": "99cfede0-b710-4c9a-b2fa-4458e6e53078",
   "metadata": {},
   "outputs": [
    {
     "data": {
      "text/plain": [
       "array([[7, 7, 7, 7],\n",
       "       [7, 7, 7, 7],\n",
       "       [7, 7, 7, 7],\n",
       "       [7, 7, 7, 7]])"
      ]
     },
     "execution_count": 50,
     "metadata": {},
     "output_type": "execute_result"
    }
   ],
   "source": [
    "g = np.full_like(e,7)\n",
    "g"
   ]
  },
  {
   "cell_type": "code",
   "execution_count": 54,
   "id": "f2036d35-4ace-48b5-8d95-0b53428286d1",
   "metadata": {},
   "outputs": [
    {
     "data": {
      "text/plain": [
       "array([[1., 0., 0.],\n",
       "       [0., 1., 0.],\n",
       "       [0., 0., 1.]])"
      ]
     },
     "execution_count": 54,
     "metadata": {},
     "output_type": "execute_result"
    }
   ],
   "source": [
    "h = np.identity(3)\n",
    "h"
   ]
  },
  {
   "cell_type": "code",
   "execution_count": 64,
   "id": "a9a6bafb-551f-4144-9d28-48becd12c394",
   "metadata": {},
   "outputs": [
    {
     "data": {
      "text/plain": [
       "array([[9, 7],\n",
       "       [5, 7],\n",
       "       [1, 6],\n",
       "       [3, 1],\n",
       "       [6, 2]])"
      ]
     },
     "execution_count": 64,
     "metadata": {},
     "output_type": "execute_result"
    }
   ],
   "source": [
    "i = np.random.randint(1,10, size = (5,2))\n",
    "i"
   ]
  },
  {
   "cell_type": "code",
   "execution_count": 66,
   "id": "62782f64-47c6-481b-91d0-c9f1b94a40cc",
   "metadata": {},
   "outputs": [
    {
     "data": {
      "text/plain": [
       "array([[[ 0.59304552,  0.97747193, -0.01508134],\n",
       "        [-0.98060717, -1.10186312,  1.15435817],\n",
       "        [-0.55472673,  1.94138843, -0.01777327]],\n",
       "\n",
       "       [[-1.42046847, -1.55383263, -0.3585664 ],\n",
       "        [ 0.8014477 ,  0.16115254,  0.26321001],\n",
       "        [ 0.3123253 , -1.09709316,  1.2202149 ]],\n",
       "\n",
       "       [[-1.00041053,  0.01260026,  1.30950211],\n",
       "        [ 1.50911114, -0.11710619, -0.77034025],\n",
       "        [ 0.33857576,  1.82765062, -0.25261418]]])"
      ]
     },
     "execution_count": 67,
     "metadata": {},
     "output_type": "execute_result"
    }
   ],
   "source": [
    "j= np.random.rand(3,3,3)\n",
    "j"
   ]
  },
  {
   "cell_type": "code",
   "execution_count": 69,
   "id": "4e74869c-693a-4887-87e2-23d160a61fbd",
   "metadata": {},
   "outputs": [],
   "source": [
    "k = [1,2,3,4,5]"
   ]
  },
  {
   "cell_type": "code",
   "execution_count": 71,
   "id": "28715da6-910b-4117-b041-2c6691e6ed61",
   "metadata": {},
   "outputs": [
    {
     "data": {
      "text/plain": [
       "array([1, 2, 3, 4, 5])"
      ]
     },
     "execution_count": 71,
     "metadata": {},
     "output_type": "execute_result"
    }
   ],
   "source": [
    "l=np.array(k)\n",
    "l"
   ]
  },
  {
   "cell_type": "code",
   "execution_count": 73,
   "id": "58961b45-af3f-4a88-b1be-48a82741002c",
   "metadata": {},
   "outputs": [
    {
     "data": {
      "text/plain": [
       "array([1, 2, 3, 4, 5])"
      ]
     },
     "execution_count": 73,
     "metadata": {},
     "output_type": "execute_result"
    }
   ],
   "source": [
    "m = np.copy(l)\n",
    "m"
   ]
  },
  {
   "cell_type": "code",
   "execution_count": 75,
   "id": "3c444035-baba-4296-9f05-b28493ad0b0d",
   "metadata": {},
   "outputs": [
    {
     "data": {
      "text/plain": [
       "array([ 1,  2,  3,  4,  5,  6,  7,  8,  9, 10])"
      ]
     },
     "execution_count": 75,
     "metadata": {},
     "output_type": "execute_result"
    }
   ],
   "source": [
    "n = np.arange(1,11)\n",
    "n"
   ]
  },
  {
   "cell_type": "code",
   "execution_count": 77,
   "id": "2a45f45b-6a6e-403e-8808-ae75786954b2",
   "metadata": {},
   "outputs": [
    {
     "data": {
      "text/plain": [
       "array([1, 3, 5, 7, 9])"
      ]
     },
     "execution_count": 77,
     "metadata": {},
     "output_type": "execute_result"
    }
   ],
   "source": [
    "n[0::2]"
   ]
  },
  {
   "cell_type": "code",
   "execution_count": 79,
   "id": "26c7b9e0-5227-4af8-b5eb-bd6f57f146cb",
   "metadata": {},
   "outputs": [
    {
     "data": {
      "text/plain": [
       "array([1, 3, 5, 7, 9])"
      ]
     },
     "execution_count": 79,
     "metadata": {},
     "output_type": "execute_result"
    }
   ],
   "source": [
    "o = np.arange(1,11,2)\n",
    "o"
   ]
  },
  {
   "cell_type": "code",
   "execution_count": 91,
   "id": "6674e14e-79ad-4b2a-b6b1-47e1adc496ec",
   "metadata": {},
   "outputs": [
    {
     "data": {
      "text/plain": [
       "array([10,  9,  8,  7,  6,  5,  4,  3,  2,  1])"
      ]
     },
     "execution_count": 91,
     "metadata": {},
     "output_type": "execute_result"
    }
   ],
   "source": [
    "p = np.arange(1,11)[::-1]\n",
    "p"
   ]
  },
  {
   "cell_type": "code",
   "execution_count": 93,
   "id": "1731889a-95a0-49b5-964f-eefb00876903",
   "metadata": {},
   "outputs": [
    {
     "data": {
      "text/plain": [
       "array([[0, 1, 2],\n",
       "       [3, 4, 5],\n",
       "       [6, 7, 8]])"
      ]
     },
     "execution_count": 93,
     "metadata": {},
     "output_type": "execute_result"
    }
   ],
   "source": [
    "np.arange(0,9).reshape(3,3)"
   ]
  },
  {
   "cell_type": "code",
   "execution_count": 94,
   "id": "2bbd5e29-c1d3-4696-a897-a9f639368c8c",
   "metadata": {},
   "outputs": [
    {
     "data": {
      "text/plain": [
       "array([[1, 2, 3],\n",
       "       [4, 5, 6],\n",
       "       [7, 8, 9]])"
      ]
     },
     "execution_count": 94,
     "metadata": {},
     "output_type": "execute_result"
    }
   ],
   "source": [
    "x"
   ]
  },
  {
   "cell_type": "code",
   "execution_count": 95,
   "id": "13de2e68-ffc8-4b38-98d9-3399f772576c",
   "metadata": {},
   "outputs": [
    {
     "data": {
      "text/plain": [
       "1"
      ]
     },
     "execution_count": 95,
     "metadata": {},
     "output_type": "execute_result"
    }
   ],
   "source": [
    "x[0,0]"
   ]
  },
  {
   "cell_type": "code",
   "execution_count": 96,
   "id": "fde7b0d7-8b7c-4686-83c4-e7c982066e97",
   "metadata": {},
   "outputs": [
    {
     "data": {
      "text/plain": [
       "9"
      ]
     },
     "execution_count": 96,
     "metadata": {},
     "output_type": "execute_result"
    }
   ],
   "source": [
    "x[2,2]"
   ]
  },
  {
   "cell_type": "code",
   "execution_count": 97,
   "id": "d6ca17a1-ba10-4297-bb38-c2faea13393e",
   "metadata": {},
   "outputs": [
    {
     "data": {
      "text/plain": [
       "array([1, 2, 3])"
      ]
     },
     "execution_count": 97,
     "metadata": {},
     "output_type": "execute_result"
    }
   ],
   "source": [
    "x[0,:]"
   ]
  },
  {
   "cell_type": "code",
   "execution_count": 98,
   "id": "ff8ffede-5fd8-4e0b-b1d2-87f04613b39c",
   "metadata": {},
   "outputs": [
    {
     "data": {
      "text/plain": [
       "array([[1, 2, 3],\n",
       "       [4, 5, 6],\n",
       "       [7, 8, 9]])"
      ]
     },
     "execution_count": 98,
     "metadata": {},
     "output_type": "execute_result"
    }
   ],
   "source": [
    "x"
   ]
  },
  {
   "cell_type": "code",
   "execution_count": 99,
   "id": "94ef6788-fa41-4eb5-90fd-82b87ce03dc6",
   "metadata": {},
   "outputs": [
    {
     "data": {
      "text/plain": [
       "array(['A', 'B', 'C', 'D', 'E'], dtype='<U1')"
      ]
     },
     "execution_count": 99,
     "metadata": {},
     "output_type": "execute_result"
    }
   ],
   "source": [
    "r = np.array(['A','B','C','D','E'])\n",
    "r"
   ]
  },
  {
   "cell_type": "code",
   "execution_count": 101,
   "id": "462ae235-87d6-4882-8fd8-42e95c22900b",
   "metadata": {},
   "outputs": [
    {
     "data": {
      "text/plain": [
       "array(['A', 'B', 'C'], dtype='<U1')"
      ]
     },
     "execution_count": 101,
     "metadata": {},
     "output_type": "execute_result"
    }
   ],
   "source": [
    "r[0:3]"
   ]
  },
  {
   "cell_type": "code",
   "execution_count": 103,
   "id": "5142472d-a50e-4eef-b9b9-9ae65e793d04",
   "metadata": {},
   "outputs": [
    {
     "data": {
      "text/plain": [
       "array(['B', 'C', 'D'], dtype='<U1')"
      ]
     },
     "execution_count": 103,
     "metadata": {},
     "output_type": "execute_result"
    }
   ],
   "source": [
    "r[1:4]"
   ]
  },
  {
   "cell_type": "code",
   "execution_count": 105,
   "id": "beb3bd23-eb81-45a4-a8a4-b6c60b5ce62b",
   "metadata": {},
   "outputs": [
    {
     "data": {
      "text/plain": [
       "array(['E', 'D', 'C', 'B', 'A'], dtype='<U1')"
      ]
     },
     "execution_count": 105,
     "metadata": {},
     "output_type": "execute_result"
    }
   ],
   "source": [
    "r[::-1]"
   ]
  },
  {
   "cell_type": "code",
   "execution_count": 106,
   "id": "1aa510b9-c8c1-46c4-bf18-494d64292318",
   "metadata": {},
   "outputs": [
    {
     "data": {
      "text/plain": [
       "array(['A', 'C', 'E'], dtype='<U1')"
      ]
     },
     "execution_count": 106,
     "metadata": {},
     "output_type": "execute_result"
    }
   ],
   "source": [
    "r[::2]"
   ]
  },
  {
   "cell_type": "code",
   "execution_count": 110,
   "id": "eb85268c-148b-43c3-a74d-937fca8e9488",
   "metadata": {},
   "outputs": [],
   "source": [
    "x = np.array([\n",
    "    [1,   2,  3,  4],\n",
    "    [5,   6,  7,  8],\n",
    "    [9,  10, 11, 12],\n",
    "    [13, 14, 15, 16]\n",
    "])"
   ]
  },
  {
   "cell_type": "code",
   "execution_count": 112,
   "id": "0ab91217-40e5-4e5e-b7e8-db68e9c806a0",
   "metadata": {},
   "outputs": [
    {
     "data": {
      "text/plain": [
       "array([1, 2, 3, 4])"
      ]
     },
     "execution_count": 112,
     "metadata": {},
     "output_type": "execute_result"
    }
   ],
   "source": [
    "x[0,:]"
   ]
  },
  {
   "cell_type": "code",
   "execution_count": 113,
   "id": "1c613bf2-8c45-4f20-9776-98483d8aff49",
   "metadata": {},
   "outputs": [
    {
     "data": {
      "text/plain": [
       "array([13, 14, 15, 16])"
      ]
     },
     "execution_count": 113,
     "metadata": {},
     "output_type": "execute_result"
    }
   ],
   "source": [
    "x[-1,:]"
   ]
  },
  {
   "cell_type": "code",
   "execution_count": 114,
   "id": "54736985-3e83-4ea8-8e3d-8c87143a431d",
   "metadata": {},
   "outputs": [
    {
     "data": {
      "text/plain": [
       "array([[ 1,  2,  3,  4],\n",
       "       [ 5,  6,  7,  8],\n",
       "       [ 9, 10, 11, 12],\n",
       "       [13, 14, 15, 16]])"
      ]
     },
     "execution_count": 114,
     "metadata": {},
     "output_type": "execute_result"
    }
   ],
   "source": [
    "x"
   ]
  },
  {
   "cell_type": "code",
   "execution_count": 116,
   "id": "accf2898-e72d-477a-a47d-4b95320e0b9c",
   "metadata": {},
   "outputs": [
    {
     "data": {
      "text/plain": [
       "array([[ 2,  3],\n",
       "       [ 6,  7],\n",
       "       [10, 11],\n",
       "       [14, 15]])"
      ]
     },
     "execution_count": 116,
     "metadata": {},
     "output_type": "execute_result"
    }
   ],
   "source": [
    "x[:,1:3]"
   ]
  },
  {
   "cell_type": "code",
   "execution_count": 117,
   "id": "7941915a-bae6-4403-b741-30ce2ca13519",
   "metadata": {},
   "outputs": [
    {
     "data": {
      "text/plain": [
       "array([[1, 2],\n",
       "       [5, 6]])"
      ]
     },
     "execution_count": 117,
     "metadata": {},
     "output_type": "execute_result"
    }
   ],
   "source": [
    "x[0:2,0:2]"
   ]
  },
  {
   "cell_type": "code",
   "execution_count": 118,
   "id": "6902d383-d099-44a8-8a21-67ee3093a5f6",
   "metadata": {},
   "outputs": [
    {
     "data": {
      "text/plain": [
       "array([[ 1,  2,  3,  4],\n",
       "       [ 5,  6,  7,  8],\n",
       "       [ 9, 10, 11, 12],\n",
       "       [13, 14, 15, 16]])"
      ]
     },
     "execution_count": 118,
     "metadata": {},
     "output_type": "execute_result"
    }
   ],
   "source": [
    "x"
   ]
  },
  {
   "cell_type": "code",
   "execution_count": 119,
   "id": "e7c3d0df-9e7b-4d86-8743-3da7626dcc2e",
   "metadata": {},
   "outputs": [
    {
     "data": {
      "text/plain": [
       "array([[11, 12],\n",
       "       [15, 16]])"
      ]
     },
     "execution_count": 119,
     "metadata": {},
     "output_type": "execute_result"
    }
   ],
   "source": [
    "x[2:,2:]"
   ]
  },
  {
   "cell_type": "code",
   "execution_count": 125,
   "id": "2ba8d24e-e8ec-4131-94a3-b001de52f1e7",
   "metadata": {},
   "outputs": [],
   "source": [
    "X = [-5, -3, 0, 10, 40]"
   ]
  },
  {
   "cell_type": "code",
   "execution_count": 128,
   "id": "afc0fe01-7340-4932-af35-438936ff3b92",
   "metadata": {},
   "outputs": [],
   "source": [
    "X = np.array(X, float)"
   ]
  },
  {
   "cell_type": "code",
   "execution_count": 129,
   "id": "a9baca48-7b7a-492e-b1db-e420eb6998d8",
   "metadata": {},
   "outputs": [
    {
     "data": {
      "text/plain": [
       "array([-5., -3.,  0., 10., 40.])"
      ]
     },
     "execution_count": 129,
     "metadata": {},
     "output_type": "execute_result"
    }
   ],
   "source": [
    "X"
   ]
  },
  {
   "cell_type": "code",
   "execution_count": 130,
   "id": "7c668545-a744-4e63-b3b2-6c42ac3e76c5",
   "metadata": {},
   "outputs": [
    {
     "data": {
      "text/plain": [
       "array([-5, -3,  0, 10, 40])"
      ]
     },
     "execution_count": 130,
     "metadata": {},
     "output_type": "execute_result"
    }
   ],
   "source": [
    "np.array(x, int)"
   ]
  },
  {
   "cell_type": "code",
   "execution_count": 131,
   "id": "1209ae1c-ac4d-4181-9c90-eaed1ba413f7",
   "metadata": {},
   "outputs": [
    {
     "data": {
      "text/plain": [
       "array([40., 10.,  0., -3., -5.])"
      ]
     },
     "execution_count": 131,
     "metadata": {},
     "output_type": "execute_result"
    }
   ],
   "source": [
    "X[::-1]"
   ]
  },
  {
   "cell_type": "code",
   "execution_count": 133,
   "id": "3a3cc6bc-e19c-4fb0-9562-1ab9786e59c3",
   "metadata": {},
   "outputs": [
    {
     "data": {
      "text/plain": [
       "[-5, -3, 0, 10, 40]"
      ]
     },
     "execution_count": 133,
     "metadata": {},
     "output_type": "execute_result"
    }
   ],
   "source": [
    "x.sort()\n",
    "x"
   ]
  },
  {
   "cell_type": "code",
   "execution_count": 134,
   "id": "47b5ebbb-6a2f-45ad-ba09-aee30c265c28",
   "metadata": {},
   "outputs": [
    {
     "data": {
      "text/plain": [
       "[-5, -3, 0, 10, 1]"
      ]
     },
     "execution_count": 134,
     "metadata": {},
     "output_type": "execute_result"
    }
   ],
   "source": [
    "x[4]=1\n",
    "x"
   ]
  },
  {
   "cell_type": "code",
   "execution_count": 136,
   "id": "b9258904-fa49-40d4-b533-f0c7d70279e2",
   "metadata": {},
   "outputs": [],
   "source": [
    "X = np.array([10, 20, 30, 50])"
   ]
  },
  {
   "cell_type": "code",
   "execution_count": 138,
   "id": "163b4b00-ec3e-4961-81f4-a3da881f3333",
   "metadata": {},
   "outputs": [
    {
     "data": {
      "text/plain": [
       "array([10, 20, 30, 40])"
      ]
     },
     "execution_count": 138,
     "metadata": {},
     "output_type": "execute_result"
    }
   ],
   "source": [
    "X[-1]=40\n",
    "X"
   ]
  },
  {
   "cell_type": "code",
   "execution_count": 143,
   "id": "ccdcf3c0-2fdc-445b-93b3-a7f635fed2dc",
   "metadata": {},
   "outputs": [
    {
     "data": {
      "text/plain": [
       "array([[ 6,  7,  8,  9],\n",
       "       [10, 11, 12, 13],\n",
       "       [14, 15, 16, 17],\n",
       "       [18, 19, 20, 21]])"
      ]
     },
     "execution_count": 143,
     "metadata": {},
     "output_type": "execute_result"
    }
   ],
   "source": [
    "X = np.array([\n",
    "    [1,   2,  3,  4],\n",
    "    [5,   6,  7,  8],\n",
    "    [9,  10, 11, 12],\n",
    "    [13, 14, 15, 16]\n",
    "])\n",
    "X+5"
   ]
  },
  {
   "cell_type": "code",
   "execution_count": 144,
   "id": "e5869c4e-e91f-4e0a-9ef9-d4a8e77f2362",
   "metadata": {},
   "outputs": [],
   "source": [
    "X = np.array([-1,2,0,-4,5,6,0,0,-9,10])"
   ]
  },
  {
   "cell_type": "code",
   "execution_count": 164,
   "id": "c0a61e99-6197-455d-998a-5f6ba078e63e",
   "metadata": {},
   "outputs": [
    {
     "data": {
      "text/plain": [
       "array([-1, -4, -9])"
      ]
     },
     "execution_count": 164,
     "metadata": {},
     "output_type": "execute_result"
    }
   ],
   "source": [
    "mask = X<0\n",
    "X[mask]"
   ]
  },
  {
   "cell_type": "code",
   "execution_count": 165,
   "id": "901679de-ae01-4a8a-9b66-2d2cb79273c9",
   "metadata": {},
   "outputs": [
    {
     "data": {
      "text/plain": [
       "array([ 6, 10])"
      ]
     },
     "execution_count": 165,
     "metadata": {},
     "output_type": "execute_result"
    }
   ],
   "source": [
    "mask =X >5\n",
    "X[mask]"
   ]
  },
  {
   "cell_type": "code",
   "execution_count": 166,
   "id": "c1e255b2-77ab-4a36-a7f5-5fe13b1c1d9b",
   "metadata": {},
   "outputs": [
    {
     "data": {
      "text/plain": [
       "array([ 2,  5,  6, 10])"
      ]
     },
     "execution_count": 166,
     "metadata": {},
     "output_type": "execute_result"
    }
   ],
   "source": [
    "mask = X > X.mean()\n",
    "X[mask]"
   ]
  },
  {
   "cell_type": "code",
   "execution_count": 172,
   "id": "14a8e1ec-cc16-453f-a2e9-2000bf13c15a",
   "metadata": {},
   "outputs": [
    {
     "data": {
      "text/plain": [
       "array([ 2, 10])"
      ]
     },
     "execution_count": 172,
     "metadata": {},
     "output_type": "execute_result"
    }
   ],
   "source": [
    "mask = (X ==2) | (X ==10)\n",
    "X[mask]"
   ]
  },
  {
   "cell_type": "code",
   "execution_count": 180,
   "id": "bf3da97e-aec1-4f8c-b693-511e4e91ce8a",
   "metadata": {},
   "outputs": [],
   "source": [
    "X = np.array([-1, 2, 0, -4, 5, 6, 0, 0, -9, 10])"
   ]
  },
  {
   "cell_type": "code",
   "execution_count": 181,
   "id": "82bea686-33cf-4e75-8412-604c130c702b",
   "metadata": {},
   "outputs": [
    {
     "data": {
      "text/plain": [
       "False"
      ]
     },
     "execution_count": 181,
     "metadata": {},
     "output_type": "execute_result"
    }
   ],
   "source": [
    "np.all(X != 0)"
   ]
  },
  {
   "cell_type": "code",
   "execution_count": 182,
   "id": "eca7eb1d-c365-4ad1-858c-1b7cde207163",
   "metadata": {},
   "outputs": [
    {
     "data": {
      "text/plain": [
       "True"
      ]
     },
     "execution_count": 182,
     "metadata": {},
     "output_type": "execute_result"
    }
   ],
   "source": [
    "np.any(X == 0)"
   ]
  },
  {
   "cell_type": "code",
   "execution_count": 184,
   "id": "d644270a-1395-4d1b-818d-68eb4eb48a7f",
   "metadata": {},
   "outputs": [
    {
     "data": {
      "text/plain": [
       "3.7"
      ]
     },
     "execution_count": 184,
     "metadata": {},
     "output_type": "execute_result"
    }
   ],
   "source": [
    "X = np.array([1, 2, 0, 4, 5, 6, 0, 0, 9, 10])\n",
    "X.mean()"
   ]
  },
  {
   "cell_type": "code",
   "execution_count": 185,
   "id": "76fbbb25-3796-4d82-9b94-9ceadd39ea03",
   "metadata": {},
   "outputs": [],
   "source": [
    "X = np.array([\n",
    "    [1,   2,  3,  4],\n",
    "    [5,   6,  7,  8],\n",
    "    [9,  10, 11, 12],\n",
    "    [13, 14, 15, 16]\n",
    "])\n"
   ]
  },
  {
   "cell_type": "code",
   "execution_count": 187,
   "id": "b2f7ab80-5c59-453b-a087-c45f62b95c4a",
   "metadata": {},
   "outputs": [
    {
     "data": {
      "text/plain": [
       "array([28, 32, 36, 40])"
      ]
     },
     "execution_count": 187,
     "metadata": {},
     "output_type": "execute_result"
    }
   ],
   "source": [
    "np.sum(X, axis = 0)"
   ]
  },
  {
   "cell_type": "code",
   "execution_count": 189,
   "id": "908a16d0-2e06-4896-8d53-fbee5e8b0165",
   "metadata": {},
   "outputs": [
    {
     "data": {
      "text/plain": [
       "array([ 2.5,  6.5, 10.5, 14.5])"
      ]
     },
     "execution_count": 189,
     "metadata": {},
     "output_type": "execute_result"
    }
   ],
   "source": [
    "X.mean(axis=1)"
   ]
  },
  {
   "cell_type": "code",
   "execution_count": 190,
   "id": "6de9f250-fe43-42d9-900b-89af712e3e1e",
   "metadata": {},
   "outputs": [],
   "source": [
    "X = np.array([1, 2, 0, 4, 5, 6, 0, 0, 9, 10])"
   ]
  },
  {
   "cell_type": "code",
   "execution_count": 192,
   "id": "9d784996-57b0-49c1-903b-007e091f3651",
   "metadata": {},
   "outputs": [
    {
     "data": {
      "text/plain": [
       "10"
      ]
     },
     "execution_count": 192,
     "metadata": {},
     "output_type": "execute_result"
    }
   ],
   "source": [
    "X.max()"
   ]
  },
  {
   "cell_type": "code",
   "execution_count": null,
   "id": "259f152a-89f5-4c70-9e0c-a06422671d89",
   "metadata": {},
   "outputs": [],
   "source": []
  }
 ],
 "metadata": {
  "kernelspec": {
   "display_name": "Python 3 (ipykernel)",
   "language": "python",
   "name": "python3"
  },
  "language_info": {
   "codemirror_mode": {
    "name": "ipython",
    "version": 3
   },
   "file_extension": ".py",
   "mimetype": "text/x-python",
   "name": "python",
   "nbconvert_exporter": "python",
   "pygments_lexer": "ipython3",
   "version": "3.11.1"
  }
 },
 "nbformat": 4,
 "nbformat_minor": 5
}
